{
  "nbformat": 4,
  "nbformat_minor": 0,
  "metadata": {
    "colab": {
      "provenance": [],
      "authorship_tag": "ABX9TyOkaoN+NDsja3nmxWh5aZNQ",
      "include_colab_link": true
    },
    "kernelspec": {
      "name": "python3",
      "display_name": "Python 3"
    },
    "language_info": {
      "name": "python"
    }
  },
  "cells": [
    {
      "cell_type": "markdown",
      "metadata": {
        "id": "view-in-github",
        "colab_type": "text"
      },
      "source": [
        "<a href=\"https://colab.research.google.com/github/budhilsai-19/HandsOn-4/blob/main/Problem_1.ipynb\" target=\"_parent\"><img src=\"https://colab.research.google.com/assets/colab-badge.svg\" alt=\"Open In Colab\"/></a>"
      ]
    },
    {
      "cell_type": "code",
      "execution_count": 1,
      "metadata": {
        "colab": {
          "base_uri": "https://localhost:8080/"
        },
        "id": "ImaKNsY352ZH",
        "outputId": "71a3fa6a-4cd7-4576-880a-8235ae268be6"
      },
      "outputs": [
        {
          "output_type": "stream",
          "name": "stdout",
          "text": [
            "[0, 1, 2, 3, 4, 5, 6, 7, 8, 9, 10, 11]\n",
            "[1, 2, 3, 4, 7, 8, 9, 10, 11]\n"
          ]
        }
      ],
      "source": [
        "def merge_sort(arr):\n",
        "    if len(arr)>1:\n",
        "        a = len(arr)//2\n",
        "        b = arr[:a]\n",
        "        c = arr[a:]\n",
        "        merge_sort(b)\n",
        "        merge_sort(c)\n",
        "        i = j = k = 0\n",
        "        while i<len(b) and j <len(c):\n",
        "            if b[i]<c[j]:\n",
        "                arr[k] = b[i]\n",
        "                i+=1\n",
        "            else:\n",
        "                arr[k] = c[j]\n",
        "                j+=1\n",
        "            k+=1\n",
        "        while i < len(b):\n",
        "            arr[k] = b[i]\n",
        "            i+=1\n",
        "            k+=1\n",
        "        while j < len(c):\n",
        "            arr[k] = c[j]\n",
        "            j+=1\n",
        "            k+=1\n",
        "k=3\n",
        "n=4\n",
        "array1 = [1,3,5,7]\n",
        "array2 = [2,4,6,8]\n",
        "array3 = [0,9,10,11]\n",
        "mergedarr=[array1,array2,array3]\n",
        "sortedarray=[]\n",
        "for x in mergedarr:\n",
        "    sortedarray+=x\n",
        "merge_sort(sortedarray)\n",
        "print(sortedarray)\n",
        "\n",
        "K = 3\n",
        "N =  3\n",
        "array1 = [1,3,7]\n",
        "array2 = [2,4,8]\n",
        "array3 = [9,10,11]\n",
        "mergedarr=[array1,array2,array3]\n",
        "sortedarray=[]\n",
        "for x in mergedarr:\n",
        "    sortedarray+=x\n",
        "merge_sort(sortedarray)\n",
        "print(sortedarray)"
      ]
    }
  ]
}