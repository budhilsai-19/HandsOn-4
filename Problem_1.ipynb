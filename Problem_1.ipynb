{
  "nbformat": 4,
  "nbformat_minor": 0,
  "metadata": {
    "colab": {
      "provenance": [],
      "authorship_tag": "ABX9TyOuoO7VmqLCc95RBQC3O1Dy",
      "include_colab_link": true
    },
    "kernelspec": {
      "name": "python3",
      "display_name": "Python 3"
    },
    "language_info": {
      "name": "python"
    }
  },
  "cells": [
    {
      "cell_type": "markdown",
      "metadata": {
        "id": "view-in-github",
        "colab_type": "text"
      },
      "source": [
        "<a href=\"https://colab.research.google.com/github/budhilsai-19/HandsOn-4/blob/main/Problem_1.ipynb\" target=\"_parent\"><img src=\"https://colab.research.google.com/assets/colab-badge.svg\" alt=\"Open In Colab\"/></a>"
      ]
    },
    {
      "cell_type": "code",
      "execution_count": null,
      "metadata": {
        "colab": {
          "base_uri": "https://localhost:8080/"
        },
        "id": "ImaKNsY352ZH",
        "outputId": "76fbbf50-daa4-4b88-adda-9f2bff9a8439"
      },
      "outputs": [
        {
          "output_type": "stream",
          "name": "stdout",
          "text": [
            "[0, 1, 2, 3, 4, 5, 6, 7, 8, 9, 10, 11]\n",
            "[1, 2, 3, 4, 7, 8, 9, 10, 11]\n"
          ]
        }
      ],
      "source": [
        "def merge_sort(arr):\n",
        "    if len(arr)>1:\n",
        "        q = len(arr)//2\n",
        "        l = arr[:q]\n",
        "        r = arr[q:]\n",
        "        merge_sort(l)\n",
        "        merge_sort(r)\n",
        "        i = j = k = 0\n",
        "        while i<len(l) and j <len(r):\n",
        "            if l[i]<r[j]:\n",
        "                arr[k] = l[i]\n",
        "                i+=1\n",
        "            else:\n",
        "                arr[k] = r[j]\n",
        "                j+=1\n",
        "            k+=1\n",
        "        while i < len(l):\n",
        "            arr[k] = l[i]\n",
        "            i+=1\n",
        "            k+=1\n",
        "        while j < len(r):\n",
        "            arr[k] = r[j]\n",
        "            j+=1\n",
        "            k+=1\n",
        "k=3\n",
        "n=4\n",
        "array1 = [1,3,5,7]\n",
        "array2 = [2,4,6,8]\n",
        "array3 = [0,9,10,11]\n",
        "mergedarr=[array1,array2,array3]\n",
        "sortedarray=[]\n",
        "for a in mergedarr:\n",
        "    sortedarray+=a\n",
        "merge_sort(sortedarray)\n",
        "print(sortedarray)\n",
        "\n",
        "K = 3\n",
        "N =  3\n",
        "array1 = [1,3,7]\n",
        "array2 = [2,4,8]\n",
        "array3 = [9,10,11]\n",
        "mergedarr=[array1,array2,array3]\n",
        "sortedarray=[]\n",
        "for a in mergedarr:\n",
        "    sortedarray+=a\n",
        "merge_sort(sortedarray)\n",
        "print(sortedarray)"
      ]
    }
  ]
}